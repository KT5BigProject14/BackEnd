{
 "cells": [
  {
   "cell_type": "code",
   "execution_count": 1,
   "metadata": {},
   "outputs": [
    {
     "name": "stdout",
     "output_type": "stream",
     "text": [
      "1.인도의 다양한 문화와 역동성 속으로\n",
      "2.인도의 자연경관과 유서 깊은 역사\n",
      "3.인도의 경제 성장과 미래 전망\n",
      "4.인도의 정치와 사회 구조 파악하기\n",
      "5.인도에서의 비즈니스 환경과 전략적 진출 방안\n"
     ]
    }
   ],
   "source": [
    "# 주어진 문자열 예제\n",
    "result = '1. \\\"인도의 다양한 문화와 역동성 속으로\\\"\\n2. \\\"인도의 자연경관과 유서 깊은 역사\\\"\\n3. \\\"인도의 경제 성장과 미래 전망\\\"\\n4. \\\"인도의 정치와 사회 구조 파악하기\\\"\\n5. \\\"인도에서의 비즈니스 환경과 전략적 진출 방안\\\"'\n",
    "\n",
    "# 문자열을 줄 단위로 쪼개기\n",
    "lines = result.split('\\n')\n",
    "\n",
    "# 각 줄에서 번호와 인용된 문장을 추출하여 원하는 형식으로 변환\n",
    "formatted_lines = [line.split('\\\"')[0].strip() + line.split('\\\"')[1] for line in lines]\n",
    "\n",
    "# 결과 출력\n",
    "for line in formatted_lines:\n",
    "    print(line)"
   ]
  },
  {
   "cell_type": "code",
   "execution_count": null,
   "metadata": {},
   "outputs": [],
   "source": []
  }
 ],
 "metadata": {
  "kernelspec": {
   "display_name": "retriver",
   "language": "python",
   "name": "python3"
  },
  "language_info": {
   "codemirror_mode": {
    "name": "ipython",
    "version": 3
   },
   "file_extension": ".py",
   "mimetype": "text/x-python",
   "name": "python",
   "nbconvert_exporter": "python",
   "pygments_lexer": "ipython3",
   "version": "3.11.9"
  }
 },
 "nbformat": 4,
 "nbformat_minor": 2
}
